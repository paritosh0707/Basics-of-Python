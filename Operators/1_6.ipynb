{
  "nbformat": 4,
  "nbformat_minor": 0,
  "metadata": {
    "kernelspec": {
      "display_name": "Python 2",
      "language": "python",
      "name": "python2"
    },
    "language_info": {
      "codemirror_mode": {
        "name": "ipython",
        "version": 2
      },
      "file_extension": ".py",
      "mimetype": "text/x-python",
      "name": "python",
      "nbconvert_exporter": "python",
      "pygments_lexer": "ipython2",
      "version": "2.7.10"
    },
    "colab": {
      "name": "1.6.ipynb",
      "provenance": []
    }
  },
  "cells": [
    {
      "cell_type": "markdown",
      "metadata": {
        "id": "61Rig_ZTKTt5"
      },
      "source": [
        "# Operators"
      ]
    },
    {
      "cell_type": "markdown",
      "metadata": {
        "id": "UWPu5y4CKTt-"
      },
      "source": [
        "Operators are special symbols in Python that carry out arithmetic or logical computation. The value that the operator operates on is called the operand."
      ]
    },
    {
      "cell_type": "markdown",
      "metadata": {
        "id": "GLCRjdeXKTt_"
      },
      "source": [
        "# Operator Types"
      ]
    },
    {
      "cell_type": "markdown",
      "metadata": {
        "id": "v4cvv9jgKTuA"
      },
      "source": [
        "1. Arithmetic operators\n",
        "    \n",
        "2. Comparison (Relational) operators\n",
        "\n",
        "3. Logical (Boolean) operators\n",
        "\n",
        "4. Bitwise operators\n",
        "\n",
        "5. Assignment operators\n",
        "\n",
        "6. Special operators"
      ]
    },
    {
      "cell_type": "markdown",
      "metadata": {
        "id": "0TLMcD-1KTuB"
      },
      "source": [
        "# Arithmetic Operators"
      ]
    },
    {
      "cell_type": "markdown",
      "metadata": {
        "id": "Z9RumYzaKTuC"
      },
      "source": [
        "Arithmetic operators are used to perform mathematical operations like addition, subtraction, multiplication etc."
      ]
    },
    {
      "cell_type": "markdown",
      "metadata": {
        "id": "t4a8mvZLKTuD"
      },
      "source": [
        "    + , -, *, /, %, //, **  are arithmetic operators"
      ]
    },
    {
      "cell_type": "markdown",
      "metadata": {
        "id": "URlzjWRRKTuE"
      },
      "source": [
        "Example:"
      ]
    },
    {
      "cell_type": "code",
      "metadata": {
        "id": "saxaKJoWKTuE",
        "outputId": "882aaba6-562c-415b-ae73-d11ae222f004"
      },
      "source": [
        "x, y = 10, 20\n",
        "\n",
        "#addition\n",
        "print(x + y)\n",
        "\n",
        "#subtraction(-)\n",
        "\n",
        "#multiplication(*)\n",
        "\n",
        "#division(/)\n",
        "\n",
        "#modulo division (%)\n",
        "\n",
        "#Floor Division (//)\n",
        "\n",
        "#Exponent (**)"
      ],
      "execution_count": null,
      "outputs": [
        {
          "output_type": "stream",
          "text": [
            "30\n"
          ],
          "name": "stdout"
        }
      ]
    },
    {
      "cell_type": "markdown",
      "metadata": {
        "id": "9kF8Moz1KTuH"
      },
      "source": [
        "# Comparision Operators"
      ]
    },
    {
      "cell_type": "markdown",
      "metadata": {
        "id": "AvMYm6weKTuI"
      },
      "source": [
        "Comparison operators are used to compare values. It either returns True or False according to the condition."
      ]
    },
    {
      "cell_type": "markdown",
      "metadata": {
        "id": "WiY9kTU0KTuI"
      },
      "source": [
        "    >, <, ==, !=, >=, <= are comparision operators"
      ]
    },
    {
      "cell_type": "code",
      "metadata": {
        "id": "c3oDXzV_KTuJ",
        "outputId": "8a16cc5b-07ed-4446-bef1-5f8f4ac762b2"
      },
      "source": [
        "a, b = 10, 20         \n",
        "\n",
        "print(a < b)  #check a is less than b\n",
        "\n",
        "#check a is greater than b\n",
        "\n",
        "#check a is equal to b\n",
        "\n",
        "#check a is not equal to b (!=)\n",
        "\n",
        "#check a greater than or equal to b\n",
        "\n",
        "#check a less than or equal to b\n"
      ],
      "execution_count": null,
      "outputs": [
        {
          "output_type": "stream",
          "text": [
            "True\n"
          ],
          "name": "stdout"
        }
      ]
    },
    {
      "cell_type": "markdown",
      "metadata": {
        "id": "DkDVyBiyKTuK"
      },
      "source": [
        "# Logical Operators"
      ]
    },
    {
      "cell_type": "markdown",
      "metadata": {
        "id": "MXiTe7VXKTuK"
      },
      "source": [
        "Logical operators are  **and, or, not** operators."
      ]
    },
    {
      "cell_type": "code",
      "metadata": {
        "id": "UqGXuAiTKTuK",
        "outputId": "173e5b29-2aaa-4e3c-c013-2161615e72fe"
      },
      "source": [
        "a, b = True, False\n",
        "\n",
        "#print a and b\n",
        "print(a and b)\n",
        "\n",
        "#print a or b\n",
        "\n",
        "#print not b\n"
      ],
      "execution_count": null,
      "outputs": [
        {
          "output_type": "stream",
          "text": [
            "False\n"
          ],
          "name": "stdout"
        }
      ]
    },
    {
      "cell_type": "markdown",
      "metadata": {
        "id": "TLDVuVm5KTuL"
      },
      "source": [
        "# Bitwise operators"
      ]
    },
    {
      "cell_type": "markdown",
      "metadata": {
        "id": "zVM87YWRKTuL"
      },
      "source": [
        "Bitwise operators act on operands as if they were string of binary digits. It operates bit by bit"
      ]
    },
    {
      "cell_type": "markdown",
      "metadata": {
        "id": "e5rOSfJKKTuM"
      },
      "source": [
        "    &,  |,  ~,  ^,  >>,  << are Bitwise operators"
      ]
    },
    {
      "cell_type": "code",
      "metadata": {
        "id": "pHT0yU_fKTuM",
        "outputId": "adee79e6-d9c2-41ed-db7a-45969612a00a"
      },
      "source": [
        "a, b = 10, 4\n",
        "\n",
        "#Bitwise AND\n",
        "print(a & b)\n",
        "\n",
        "#Bitwise OR\n",
        "\n",
        "\n",
        "#Bitwise NOT\n",
        "\n",
        "\n",
        "#Bitwise XOR\n",
        "\n",
        "\n",
        "#Bitwise rightshift\n",
        "\n",
        "\n",
        "#Bitwise Leftshift\n"
      ],
      "execution_count": null,
      "outputs": [
        {
          "output_type": "stream",
          "text": [
            "0\n"
          ],
          "name": "stdout"
        }
      ]
    },
    {
      "cell_type": "markdown",
      "metadata": {
        "id": "mB84B-5SKTuN"
      },
      "source": [
        "# Assignment operators"
      ]
    },
    {
      "cell_type": "markdown",
      "metadata": {
        "id": "Jaf9KCS4KTuN"
      },
      "source": [
        "Assignment operators are used in Python to assign values to variables.\n",
        "\n",
        "a = 5 is a simple assignment operator that assigns the value 5 on the right to the variable a on the left."
      ]
    },
    {
      "cell_type": "markdown",
      "metadata": {
        "id": "RFPio8S9KTuO"
      },
      "source": [
        "    =,  +=,  -=,  *=,  /=,  %=,  //=,  **=, &=,  |=,  ^=,  >>=,  <<= are Assignment operators"
      ]
    },
    {
      "cell_type": "code",
      "metadata": {
        "id": "mKYChhcsKTuO",
        "outputId": "ee60252f-c360-4681-a0fc-985cd9753a3c"
      },
      "source": [
        "a = 10\n",
        "\n",
        "a += 10         #add AND\n",
        "print(a)\n",
        "\n",
        "#subtract AND (-=)\n",
        "\n",
        "#Multiply AND (*=)\n",
        "\n",
        "#Divide AND (/=)\n",
        "\n",
        "#Modulus AND (%=)\n",
        "\n",
        "#Floor Division (//=)\n",
        "\n",
        "#Exponent AND (**=)\n"
      ],
      "execution_count": null,
      "outputs": [
        {
          "output_type": "stream",
          "text": [
            "20\n"
          ],
          "name": "stdout"
        }
      ]
    },
    {
      "cell_type": "markdown",
      "metadata": {
        "id": "mrx7SnEQKTuP"
      },
      "source": [
        "# Special Operators"
      ]
    },
    {
      "cell_type": "markdown",
      "metadata": {
        "id": "XZgKGLNhKTuP"
      },
      "source": [
        "# Identity Operators"
      ]
    },
    {
      "cell_type": "markdown",
      "metadata": {
        "id": "JLkzbT6PKTuQ"
      },
      "source": [
        "**is and is not** are the identity operators in Python. \n",
        "\n",
        "They are used to check if two values (or variables) are located on the same part of the memory."
      ]
    },
    {
      "cell_type": "code",
      "metadata": {
        "id": "19dzFYT4KTuQ",
        "outputId": "428fccea-48e8-432f-8636-37d418f668bb"
      },
      "source": [
        "a = 5\n",
        "b = 5\n",
        "print(a is b)    #5 is object created once both a and b points to same object\n",
        "\n",
        "#check is not"
      ],
      "execution_count": null,
      "outputs": [
        {
          "output_type": "stream",
          "text": [
            "True\n"
          ],
          "name": "stdout"
        }
      ]
    },
    {
      "cell_type": "code",
      "metadata": {
        "id": "S_mtKmXCKTuR",
        "outputId": "f7976bff-c52c-4c09-de12-21dc3b6af2de"
      },
      "source": [
        "l1 = [1, 2, 3]\n",
        "l2 = [1, 2, 3]\n",
        "print(l1 is l2)"
      ],
      "execution_count": null,
      "outputs": [
        {
          "output_type": "stream",
          "text": [
            "False\n"
          ],
          "name": "stdout"
        }
      ]
    },
    {
      "cell_type": "code",
      "metadata": {
        "id": "Tg5weKxSKTuS",
        "outputId": "af8d60bb-99f8-4301-fbbb-dd379b2c278a"
      },
      "source": [
        "s1 = \"Satish\"\n",
        "s2 = \"Satish\"\n",
        "print(s1 is not s2)"
      ],
      "execution_count": null,
      "outputs": [
        {
          "output_type": "stream",
          "text": [
            "False\n"
          ],
          "name": "stdout"
        }
      ]
    },
    {
      "cell_type": "markdown",
      "metadata": {
        "id": "80Zn0md9KTuS"
      },
      "source": [
        "# MemberShip Operators"
      ]
    },
    {
      "cell_type": "markdown",
      "metadata": {
        "id": "u78Pvv-TKTuT"
      },
      "source": [
        "**in and not in** are the membership operators in Python. \n",
        "    \n",
        "They are used to test whether a value or variable is found in a sequence (string, list, tuple, set and   dictionary)."
      ]
    },
    {
      "cell_type": "code",
      "metadata": {
        "id": "C0L8aradKTuT",
        "outputId": "23e842dc-666b-4ba8-c12b-4bc9d7dd55ff"
      },
      "source": [
        "lst = [1, 2, 3, 4]\n",
        "print(1 in lst)       #check 1 is present in a given list or not\n",
        "\n",
        "#check 5 is present in a given list\n"
      ],
      "execution_count": null,
      "outputs": [
        {
          "output_type": "stream",
          "text": [
            "True\n"
          ],
          "name": "stdout"
        }
      ]
    },
    {
      "cell_type": "code",
      "metadata": {
        "id": "xqzWQ-3DKTuU",
        "outputId": "bb80fa19-4985-4806-d823-f4cd90553438"
      },
      "source": [
        "d = {1: \"a\", 2: \"b\"}\n",
        "print(1 in d)"
      ],
      "execution_count": null,
      "outputs": [
        {
          "output_type": "stream",
          "text": [
            "True\n"
          ],
          "name": "stdout"
        }
      ]
    }
  ]
}