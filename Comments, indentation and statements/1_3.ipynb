{
  "nbformat": 4,
  "nbformat_minor": 0,
  "metadata": {
    "kernelspec": {
      "display_name": "Python 2",
      "language": "python",
      "name": "python2"
    },
    "language_info": {
      "codemirror_mode": {
        "name": "ipython",
        "version": 2
      },
      "file_extension": ".py",
      "mimetype": "text/x-python",
      "name": "python",
      "nbconvert_exporter": "python",
      "pygments_lexer": "ipython2",
      "version": "2.7.13"
    },
    "colab": {
      "name": "1.3.ipynb",
      "provenance": []
    }
  },
  "cells": [
    {
      "cell_type": "markdown",
      "metadata": {
        "id": "0KgJ-qTNki9j"
      },
      "source": [
        "# Python Comments"
      ]
    },
    {
      "cell_type": "markdown",
      "metadata": {
        "id": "PhMDUHljki9o"
      },
      "source": [
        "Comments are lines that exist in computer programs that are ignored by compilers and interpreters. \n",
        "\n",
        "Including comments in programs makes code more readable for humans as it provides some information or explanation about what each part of a program is doing.\n",
        "\n",
        "In general, it is a good idea to write comments while you are writing or updating a program as it is easy to forget your thought process later on, and comments written later may be less useful in the long term. "
      ]
    },
    {
      "cell_type": "markdown",
      "metadata": {
        "id": "mUzq2Nxtki9p"
      },
      "source": [
        "In Python, we use the hash (#) symbol to start writing a comment."
      ]
    },
    {
      "cell_type": "code",
      "metadata": {
        "id": "OZAzLDe_ki9q",
        "outputId": "10aa579f-b9f9-4456-e5fd-dd79c40f3c37"
      },
      "source": [
        "#Print Hello, world to console\n",
        "print(\"Hello, world\")"
      ],
      "execution_count": null,
      "outputs": [
        {
          "output_type": "stream",
          "text": [
            "Hello, world\n"
          ],
          "name": "stdout"
        }
      ]
    },
    {
      "cell_type": "markdown",
      "metadata": {
        "id": "JYpdugVDki9t"
      },
      "source": [
        "# Multi Line Comments"
      ]
    },
    {
      "cell_type": "markdown",
      "metadata": {
        "id": "bggoMS8Qki9u"
      },
      "source": [
        "If we have comments that extend multiple lines, one way of doing it is to use hash (#) in the beginning of each line."
      ]
    },
    {
      "cell_type": "code",
      "metadata": {
        "collapsed": true,
        "id": "Q0RDQ5Eaki9u"
      },
      "source": [
        "#This is a long comment\n",
        "#and it extends \n",
        "#Multiple lines"
      ],
      "execution_count": null,
      "outputs": []
    },
    {
      "cell_type": "markdown",
      "metadata": {
        "id": "-0T8jIJRki9v"
      },
      "source": [
        "Another way of doing this is to use triple quotes, either ''' or \"\"\"."
      ]
    },
    {
      "cell_type": "code",
      "metadata": {
        "id": "wlXm6Pd8ki9w",
        "outputId": "f2288c0b-622f-482d-fdba-2bbe6ce29427"
      },
      "source": [
        "\"\"\"This is also a\n",
        "perfect example of\n",
        "multi-line comments\"\"\""
      ],
      "execution_count": null,
      "outputs": [
        {
          "output_type": "execute_result",
          "data": {
            "text/plain": [
              "'This is also a\\nperfect example of\\nmulti-line comments'"
            ]
          },
          "metadata": {
            "tags": []
          },
          "execution_count": 3
        }
      ]
    },
    {
      "cell_type": "markdown",
      "metadata": {
        "id": "NxuvfSgOki9x"
      },
      "source": [
        "# DocString in python"
      ]
    },
    {
      "cell_type": "markdown",
      "metadata": {
        "id": "-Okhbhuaki9x"
      },
      "source": [
        "Docstring is short for documentation string.\n",
        "\n",
        "It is a string that occurs as the first statement in a module, function, class, or method definition."
      ]
    },
    {
      "cell_type": "code",
      "metadata": {
        "id": "yzdaqd2dki9y",
        "outputId": "cd86e111-8414-4661-c906-1161bd475e0f"
      },
      "source": [
        "def double(num):\n",
        "    \"\"\"\n",
        "    function to double the number\n",
        "    \"\"\"\n",
        "    return 2 * num\n",
        "\n",
        "print double(10)"
      ],
      "execution_count": null,
      "outputs": [
        {
          "output_type": "stream",
          "text": [
            "20\n"
          ],
          "name": "stdout"
        }
      ]
    },
    {
      "cell_type": "code",
      "metadata": {
        "id": "AVfdF7mDki9z",
        "outputId": "008a043d-a496-42ff-b2e0-ac4df8f82f32"
      },
      "source": [
        "print double.__doc__ #Docstring is available to us as the attribute __doc__ of the function"
      ],
      "execution_count": null,
      "outputs": [
        {
          "output_type": "stream",
          "text": [
            "\n",
            "    function to double the number\n",
            "    \n"
          ],
          "name": "stdout"
        }
      ]
    },
    {
      "cell_type": "markdown",
      "metadata": {
        "id": "0dYAGWh-ki9z"
      },
      "source": [
        "# Python Indentation"
      ]
    },
    {
      "cell_type": "markdown",
      "metadata": {
        "id": "99ZuFFKXki90"
      },
      "source": [
        "1. Most of the programming languages like C, C++, Java use braces { } to define a block of code. Python uses indentation.\n",
        "\n",
        "2. A code block (body of a function, loop etc.) starts with indentation and ends with the first unindented line. The amount of indentation is up to you, but it must be consistent throughout that block.\n",
        "\n",
        "3. Generally four whitespaces are used for indentation and is preferred over tabs."
      ]
    },
    {
      "cell_type": "code",
      "metadata": {
        "id": "M4eBtEjAki90",
        "outputId": "ef1d8f55-6c9d-4310-bbb6-e5f8ebd6d7c4"
      },
      "source": [
        "for i in range(10):\n",
        "    print i"
      ],
      "execution_count": null,
      "outputs": [
        {
          "output_type": "stream",
          "text": [
            "0\n",
            "1\n",
            "2\n",
            "3\n",
            "4\n",
            "5\n",
            "6\n",
            "7\n",
            "8\n",
            "9\n"
          ],
          "name": "stdout"
        }
      ]
    },
    {
      "cell_type": "markdown",
      "metadata": {
        "id": "HWAi6LhWki91"
      },
      "source": [
        "Indentation can be ignored in line continuation. But it's a good idea to always indent. It makes the code more readable."
      ]
    },
    {
      "cell_type": "code",
      "metadata": {
        "id": "CP3bSgwHki92",
        "outputId": "46f4fbe9-4c8a-41b7-9293-c782be4e45b9"
      },
      "source": [
        "if True:\n",
        "    print \"Machine Learning\"\n",
        "    c = \"AAIC\""
      ],
      "execution_count": null,
      "outputs": [
        {
          "output_type": "stream",
          "text": [
            "Machine Learning\n"
          ],
          "name": "stdout"
        }
      ]
    },
    {
      "cell_type": "code",
      "metadata": {
        "id": "mZP1TKTCki93",
        "outputId": "6e59c80d-5d04-49a0-dc95-4b13fc7edc0d"
      },
      "source": [
        "if True: print \"Machine Learning\"; c = \"AAIC\""
      ],
      "execution_count": null,
      "outputs": [
        {
          "output_type": "stream",
          "text": [
            "Machine Learning\n"
          ],
          "name": "stdout"
        }
      ]
    },
    {
      "cell_type": "markdown",
      "metadata": {
        "id": "6bzJOpZBki94"
      },
      "source": [
        "# Python Statement"
      ]
    },
    {
      "cell_type": "markdown",
      "metadata": {
        "id": "9gDcSkjCki94"
      },
      "source": [
        "Instructions that a Python interpreter can execute are called statements."
      ]
    },
    {
      "cell_type": "markdown",
      "metadata": {
        "id": "ZPDKq8eiki95"
      },
      "source": [
        "Examples:"
      ]
    },
    {
      "cell_type": "code",
      "metadata": {
        "collapsed": true,
        "id": "jCK4Fkmzki95"
      },
      "source": [
        " a = 1  #single statement"
      ],
      "execution_count": null,
      "outputs": []
    },
    {
      "cell_type": "markdown",
      "metadata": {
        "id": "JuH0jQNhki96"
      },
      "source": [
        "# Multi-Line Statement"
      ]
    },
    {
      "cell_type": "markdown",
      "metadata": {
        "id": "KqyVx9QIki96"
      },
      "source": [
        "In Python, end of a statement is marked by a newline character. But we can make a statement extend over multiple lines with the line continuation character (\\)."
      ]
    },
    {
      "cell_type": "code",
      "metadata": {
        "collapsed": true,
        "id": "ArAWiQHAki96"
      },
      "source": [
        "a = 1 + 2 + 3 + \\\n",
        "    4 + 5 + 6 + \\\n",
        "    7 + 8"
      ],
      "execution_count": null,
      "outputs": []
    },
    {
      "cell_type": "code",
      "metadata": {
        "id": "J1nsFj8Nki97",
        "outputId": "4cd39230-a361-4d19-b666-003741d48ddd"
      },
      "source": [
        "print a"
      ],
      "execution_count": null,
      "outputs": [
        {
          "output_type": "stream",
          "text": [
            "36\n"
          ],
          "name": "stdout"
        }
      ]
    },
    {
      "cell_type": "code",
      "metadata": {
        "id": "922H2nbOki97",
        "outputId": "85d04ceb-abd8-43ce-f371-c244d93ee2f8"
      },
      "source": [
        "#another way is\n",
        "a = (1 + 2 + 3 +\n",
        "    4 + 5 + 6 + \n",
        "    7 + 8)\n",
        "print a"
      ],
      "execution_count": null,
      "outputs": [
        {
          "output_type": "stream",
          "text": [
            "36\n"
          ],
          "name": "stdout"
        }
      ]
    },
    {
      "cell_type": "code",
      "metadata": {
        "collapsed": true,
        "id": "UNzxU-uuki98"
      },
      "source": [
        "a = 10; b = 20; c = 30   #put multiple statements in a single line using ;"
      ],
      "execution_count": null,
      "outputs": []
    }
  ]
}