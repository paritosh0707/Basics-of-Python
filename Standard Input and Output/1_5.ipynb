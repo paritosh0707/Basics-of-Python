{
  "nbformat": 4,
  "nbformat_minor": 0,
  "metadata": {
    "kernelspec": {
      "display_name": "Python 2",
      "language": "python",
      "name": "python2"
    },
    "language_info": {
      "codemirror_mode": {
        "name": "ipython",
        "version": 2
      },
      "file_extension": ".py",
      "mimetype": "text/x-python",
      "name": "python",
      "nbconvert_exporter": "python",
      "pygments_lexer": "ipython2",
      "version": "2.7.10"
    },
    "colab": {
      "name": "1.5.ipynb",
      "provenance": []
    }
  },
  "cells": [
    {
      "cell_type": "markdown",
      "metadata": {
        "id": "Holz78rSI1L3"
      },
      "source": [
        "# Python Input and Output"
      ]
    },
    {
      "cell_type": "markdown",
      "metadata": {
        "id": "SUJhQ98EI1L9"
      },
      "source": [
        "# Python Output"
      ]
    },
    {
      "cell_type": "markdown",
      "metadata": {
        "id": "vDeb0OWbI1MB"
      },
      "source": [
        "We use the print() function to output data to the standard output device"
      ]
    },
    {
      "cell_type": "code",
      "metadata": {
        "id": "AodF636PI1MC",
        "outputId": "eef432ab-95ce-43db-e4d5-3e6ab5bd9350"
      },
      "source": [
        "print(\"Hello World\")"
      ],
      "execution_count": null,
      "outputs": [
        {
          "output_type": "stream",
          "text": [
            "Hello World\n"
          ],
          "name": "stdout"
        }
      ]
    },
    {
      "cell_type": "code",
      "metadata": {
        "id": "HosN34eXI1MF",
        "outputId": "04926ffa-4cf3-4664-9386-4bcde9f06437"
      },
      "source": [
        "a = 10\n",
        "print(\"The value of a is\", a) #python 3\n",
        "print \"The value of a is \" + str(a)"
      ],
      "execution_count": null,
      "outputs": [
        {
          "output_type": "stream",
          "text": [
            "('The value of a is', 10)\n",
            "The value of a is 10\n"
          ],
          "name": "stdout"
        }
      ]
    },
    {
      "cell_type": "markdown",
      "metadata": {
        "id": "KfwdM1-dI1MG"
      },
      "source": [
        "# Output Formatting"
      ]
    },
    {
      "cell_type": "code",
      "metadata": {
        "id": "gUnTRO-VI1MH",
        "outputId": "6b931099-a729-4309-ac6e-1a6c76df519d"
      },
      "source": [
        "a = 10; b = 20 #multiple statements in single line.\n",
        "\n",
        "print(\"The value of a is {} and b is {}\".format(a, b))    #default"
      ],
      "execution_count": null,
      "outputs": [
        {
          "output_type": "stream",
          "text": [
            "The value of a is 10 and b is 20\n"
          ],
          "name": "stdout"
        }
      ]
    },
    {
      "cell_type": "code",
      "metadata": {
        "id": "XCO1D1HAI1MI",
        "outputId": "d26a152e-e678-44d0-c925-c3d3c3439fea"
      },
      "source": [
        "a = 10; b = 20  #multiple statements in single line\n",
        "\n",
        "print(\"The value of b is {1} and a is {0}\".format(a, b)) #specify position of arguments"
      ],
      "execution_count": null,
      "outputs": [
        {
          "output_type": "stream",
          "text": [
            "The value of b is 20 and a is 10\n"
          ],
          "name": "stdout"
        }
      ]
    },
    {
      "cell_type": "code",
      "metadata": {
        "id": "OgLci06zI1MI",
        "outputId": "555eea9e-3390-46fa-8efa-8b0ed8c1a4dd"
      },
      "source": [
        "#we can use keyword arguments to format the string\n",
        "print(\"Hello {name}, {greeting}\".format(name=\"satish\", greeting=\"Good Morning\"))"
      ],
      "execution_count": null,
      "outputs": [
        {
          "output_type": "stream",
          "text": [
            "Hello satish, Good Morning\n"
          ],
          "name": "stdout"
        }
      ]
    },
    {
      "cell_type": "code",
      "metadata": {
        "id": "vC0XyoG3I1MJ",
        "outputId": "4026e342-6370-4e4f-efa2-2571db860e87"
      },
      "source": [
        "#we can combine positional arguments with keyword arguments\n",
        "print('The story of {0}, {1}, and {other}'.format('Bill', 'Manfred',\n",
        "                                                       other='Georg'))"
      ],
      "execution_count": null,
      "outputs": [
        {
          "output_type": "stream",
          "text": [
            "The story of Bill, Manfred, and Georg\n"
          ],
          "name": "stdout"
        }
      ]
    },
    {
      "cell_type": "markdown",
      "metadata": {
        "id": "VMMYI_qrI1MK"
      },
      "source": [
        "# Python Input"
      ]
    },
    {
      "cell_type": "markdown",
      "metadata": {
        "id": "dPqmGIr2I1ML"
      },
      "source": [
        "want to take the input from the user. In Python, we have the input() function to allow this. "
      ]
    },
    {
      "cell_type": "code",
      "metadata": {
        "id": "COnWjjwjI1MM",
        "outputId": "23c4e7c1-21b2-44f8-c433-a4047481a0b4"
      },
      "source": [
        "num = input(\"Enter a number: \")\n",
        "print num"
      ],
      "execution_count": null,
      "outputs": [
        {
          "output_type": "stream",
          "text": [
            "Enter a number: 10\n",
            "10\n"
          ],
          "name": "stdout"
        }
      ]
    }
  ]
}